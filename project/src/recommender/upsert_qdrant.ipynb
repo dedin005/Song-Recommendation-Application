{
 "cells": [
  {
   "cell_type": "code",
   "execution_count": null,
   "metadata": {},
   "outputs": [],
   "source": [
    "import os\n",
    "from qdrant_client import QdrantClient\n",
    "from dotenv import load_dotenv, find_dotenv\n",
    "_ = load_dotenv(find_dotenv())  # read local .env file\n",
    "\n",
    "# openai.api_Key = os.environ.get(\"OPENAI_API_KEY\")\n",
    "QDRANT_API_KEY = os.environ.get(\"QDRANT_API_KEY\")"
   ]
  },
  {
   "cell_type": "code",
   "execution_count": 13,
   "metadata": {},
   "outputs": [
    {
     "data": {
      "text/plain": [
       "CollectionsResponse(collections=[CollectionDescription(name='song-embeddings-index')])"
      ]
     },
     "execution_count": 13,
     "metadata": {},
     "output_type": "execute_result"
    }
   ],
   "source": [
    "from qdrant_client.http.models import Distance, VectorParams\n",
    "\n",
    "# client = QdrantClient(\n",
    "#     url=\"https://db.ncdedinsky.com\",\n",
    "#     port=443,\n",
    "#     api_key=QDRANT_API_KEY,\n",
    "# )\n",
    "\n",
    "client = QdrantClient(\n",
    "    url=\"http://localhost\",\n",
    "    port=6333,\n",
    "    api_key=QDRANT_API_KEY,\n",
    ")\n",
    "\n",
    "index_name = 'song-embeddings-index'\n",
    "\n",
    "#client.create_collection(\n",
    "#    collection_name=index_name,\n",
    "#    vectors_config=VectorParams(size=11904, distance=Distance.COSINE),\n",
    "#)\n",
    "\n",
    "client.get_collections()"
   ]
  },
  {
   "cell_type": "code",
   "execution_count": 18,
   "metadata": {},
   "outputs": [],
   "source": [
    "import os\n",
    "import uuid\n",
    "import hashlib\n",
    "import itertools\n",
    "import numpy as np\n",
    "from qdrant_client.http.models import Batch\n",
    "\n",
    "\n",
    "def chunks(iterable, batch_size=100):\n",
    "    it = iter(iterable)\n",
    "    chunk = tuple(itertools.islice(it, batch_size))\n",
    "    while chunk:\n",
    "        yield chunk\n",
    "        chunk = tuple(itertools.islice(it, batch_size))\n",
    "\n",
    "\n",
    "def filename_to_uuid(filename):\n",
    "    # Hash the filename using SHA-1\n",
    "    sha1_hash = hashlib.sha1(filename.encode()).digest()\n",
    "\n",
    "    # Use the first 16 bytes of the hash to create a UUID\n",
    "    return str(uuid.UUID(bytes=sha1_hash[:16]))\n",
    "\n",
    "\n",
    "def get_embeddings(directory):\n",
    "    for root, _, files in os.walk(directory):\n",
    "        for file in files:\n",
    "            if file.endswith('_mel_embedding.npy'):\n",
    "                file_path = os.path.join(root, file)\n",
    "                embedding = np.load(file_path)\n",
    "                # Convert the filename to a UUID\n",
    "                spotify_id = file.split('_mel_embedding.npy')[0]\n",
    "                file_uuid = filename_to_uuid(\n",
    "                    file.split('_mel_embedding.npy')[0])\n",
    "                yield (file_uuid, embedding.tolist(), spotify_id)\n",
    "\n",
    "\n",
    "directories = [\n",
    "    #\"../../data/embeddings/test\",\n",
    "    #\"../../data/embeddings/train\"\n",
    "    #\"../../data/embeddings/validation\",\n",
    "    #\"../../data/embeddings/parts1to5\",\n",
    "    #\"../../data/embeddings/parts6to21\",\n",
    "    #\"../../data/embeddings/parts22to30\",\n",
    "    #\"../../data/embeddings/parts31to46/part1\",\n",
    "    #\"../../data/embeddings/parts31to46/part2\",\n",
    "    #\"../../data/embeddings/parts31to46/part3\",\n",
    "]\n",
    "\n",
    "# Process and upsert embeddings\n",
    "for directory in directories:\n",
    "    for batch in chunks(get_embeddings(directory), batch_size=150):\n",
    "        ids = [id_ for id_, _, _ in batch]\n",
    "        vectors = [vector for _, vector, _ in batch]\n",
    "        for _,_, spotify_id in batch:\n",
    "            if len(spotify_id) != 22:\n",
    "                print(spotify_id)\n",
    "                exit()\n",
    "\n",
    "        spotify_ids = [{\"spotify_id\": spotify_id}\n",
    "                       for _, _, spotify_id in batch]\n",
    "\n",
    "        client.upsert(\n",
    "            collection_name=index_name,\n",
    "            wait=False,\n",
    "            points=Batch(\n",
    "                ids=ids,\n",
    "                payloads=spotify_ids,\n",
    "                vectors=vectors,\n",
    "            ),\n",
    "        )"
   ]
  }
 ],
 "metadata": {
  "kernelspec": {
   "display_name": "pinecone",
   "language": "python",
   "name": "python3"
  },
  "language_info": {
   "codemirror_mode": {
    "name": "ipython",
    "version": 3
   },
   "file_extension": ".py",
   "mimetype": "text/x-python",
   "name": "python",
   "nbconvert_exporter": "python",
   "pygments_lexer": "ipython3",
   "version": "3.11.6"
  },
  "orig_nbformat": 4
 },
 "nbformat": 4,
 "nbformat_minor": 2
}
